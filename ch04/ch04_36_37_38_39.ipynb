{
 "cells": [
  {
   "cell_type": "code",
   "execution_count": 10,
   "metadata": {},
   "outputs": [],
   "source": [
    "import pandas as pd\n",
    "import numpy as np\n",
    "import matplotlib.pyplot as plt\n",
    "import seaborn as sns\n",
    "import japanize_matplotlib\n",
    "%matplotlib inline"
   ]
  },
  {
   "cell_type": "markdown",
   "metadata": {},
   "source": [
    "<br><br><br>\n",
    "# 36. 頻度上位10語Permalink\n",
    "出現頻度が高い10語とその出現頻度をグラフ（例えば棒グラフなど）で表示せよ．"
   ]
  },
  {
   "cell_type": "code",
   "execution_count": 3,
   "metadata": {},
   "outputs": [],
   "source": [
    "def parseMecab(block):\n",
    "    res = []\n",
    "    for line in block.split('\\n'):\n",
    "        if line == '':\n",
    "            return res\n",
    "        surface, attr = line.split('\\t')\n",
    "        attr = attr.split(',')\n",
    "        lineDict = {\n",
    "            'surface': surface,\n",
    "            'base' : attr[6],\n",
    "            'pos' : attr[0],\n",
    "            'pos1' : attr[1]\n",
    "        }\n",
    "        res.append(lineDict)\n",
    "\n",
    "def sortWord(block):\n",
    "    res = {}\n",
    "    for b in block:\n",
    "        if not b['surface'] in res:\n",
    "            res[b['surface']] = 1\n",
    "        else:\n",
    "            res[b['surface']] += 1\n",
    "    return sorted(res.items(), key=lambda x: x[1], reverse=True)\n",
    "\n",
    "\n",
    "\n",
    "filename = '../data/neko.txt.mecab'\n",
    "with open(filename, mode='r', encoding='utf-8') as f:\n",
    "    blockList = f.read().split('EOS\\n')\n",
    "blockList = parseMecab(blockList[0])\n",
    "ans = sortWord(blockList)"
   ]
  },
  {
   "cell_type": "code",
   "execution_count": 4,
   "metadata": {},
   "outputs": [
    {
     "data": {
      "image/png": "[encoded data removed]",
      "text/plain": [
       "<matplotlib.figure.Figure at 0x7f1028609908>"
      ]
     },
     "metadata": {
      "needs_background": "light"
     },
     "output_type": "display_data"
    }
   ],
   "source": [
    "key = [ans[i][0] for i in range(10)]\n",
    "val = [ans[i][1] for i in range(10)]\n",
    "fig = plt.figure()\n",
    "ax = fig.add_subplot(1, 1, 1)\n",
    "ax.barh(np.arange(len(key)), val, tick_label=key)\n",
    "ax.set_ylabel('単語')\n",
    "ax.set_xlabel('出現回数')\n",
    "plt.show()"
   ]
  },
  {
   "cell_type": "markdown",
   "metadata": {},
   "source": [
    "<br><br><br>\n",
    "# 37. 「猫」と共起頻度の高い上位10語Permalink\n",
    "「猫」とよく共起する（共起頻度が高い）10語とその出現頻度をグラフ（例えば棒グラフなど）で表示せよ．"
   ]
  },
  {
   "cell_type": "code",
   "execution_count": 5,
   "metadata": {},
   "outputs": [],
   "source": [
    "def parseMecab(block):\n",
    "    res = []\n",
    "    for line in block.split('\\n'):\n",
    "        if line == '':\n",
    "            return res\n",
    "        surface, attr = line.split('\\t')\n",
    "        attr = attr.split(',')\n",
    "        lineDict = {\n",
    "            'surface': surface,\n",
    "            'base' : attr[6],\n",
    "            'pos' : attr[0],\n",
    "            'pos1' : attr[1]\n",
    "        }\n",
    "        res.append(lineDict)\n",
    "\n",
    "\n",
    "filename = '../data/neko.txt.mecab'\n",
    "with open(filename, mode='r', encoding='utf-8') as f:\n",
    "    blockList = f.read().split('EOS\\n')\n",
    "blockList = parseMecab(blockList[0])"
   ]
  },
  {
   "cell_type": "code",
   "execution_count": 7,
   "metadata": {},
   "outputs": [
    {
     "name": "stdout",
     "output_type": "stream",
     "text": [
      "[('の', 397), ('は', 284), ('猫', 277), ('、', 265), ('に', 251), ('を', 240), ('て', 236), ('。', 218), ('と', 210), ('が', 185)]\n"
     ]
    }
   ],
   "source": [
    "def wordWithNeko(blockList):\n",
    "    res = {}\n",
    "    tf = False\n",
    "    tmp = {}\n",
    "    for b in blockList:\n",
    "        if b['surface'] == '猫':\n",
    "            if tf is False:\n",
    "                tf = True\n",
    "            else:\n",
    "                tmp['猫'] += 1\n",
    "        if b['surface'] == '。':\n",
    "            if tf is True:\n",
    "                for k, v in tmp.items():\n",
    "                    if k in res:\n",
    "                        res[k] += v\n",
    "                    else:\n",
    "                        res[k] = v\n",
    "            tf, tmp = False, {}\n",
    "        if b['surface'] in tmp:\n",
    "            tmp[b['surface']] += 1\n",
    "        else:\n",
    "            tmp[b['surface']] = 1\n",
    "            \n",
    "    return sorted(res.items(), key=lambda x: x[1], reverse=True)\n",
    "        \n",
    "ans = wordWithNeko(blockList)\n",
    "print(ans[:10])"
   ]
  },
  {
   "cell_type": "code",
   "execution_count": 8,
   "metadata": {},
   "outputs": [
    {
     "data": {
      "image/png": "[encoded data removed]",
      "text/plain": [
       "<matplotlib.figure.Figure at 0x7f0ff3422c50>"
      ]
     },
     "metadata": {
      "needs_background": "light"
     },
     "output_type": "display_data"
    }
   ],
   "source": [
    "key = [ans[i][0] for i in range(10)]\n",
    "val = [ans[i][1] for i in range(10)]\n",
    "fig = plt.figure()\n",
    "ax = fig.add_subplot(1, 1, 1)\n",
    "ax.barh(np.arange(len(key)), val, tick_label=key)\n",
    "ax.set_ylabel('単語')\n",
    "ax.set_xlabel('出現回数')\n",
    "plt.show()"
   ]
  },
  {
   "cell_type": "markdown",
   "metadata": {},
   "source": [
    "<br><br><br>\n",
    "# 38. ヒストグラムPermalink\n",
    "単語の出現頻度のヒストグラム（横軸に出現頻度，縦軸に出現頻度をとる単語の種類数を棒グラフで表したもの）を描け．"
   ]
  },
  {
   "cell_type": "code",
   "execution_count": 9,
   "metadata": {},
   "outputs": [],
   "source": [
    "def parseMecab(block):\n",
    "    res = []\n",
    "    for line in block.split('\\n'):\n",
    "        if line == '':\n",
    "            return res\n",
    "        surface, attr = line.split('\\t')\n",
    "        attr = attr.split(',')\n",
    "        lineDict = {\n",
    "            'surface': surface,\n",
    "            'base' : attr[6],\n",
    "            'pos' : attr[0],\n",
    "            'pos1' : attr[1]\n",
    "        }\n",
    "        res.append(lineDict)\n",
    "\n",
    "def sortWord(block):\n",
    "    res = {}\n",
    "    for b in block:\n",
    "        if not b['surface'] in res:\n",
    "            res[b['surface']] = 1\n",
    "        else:\n",
    "            res[b['surface']] += 1\n",
    "    return sorted(res.items(), key=lambda x: x[1], reverse=True)\n",
    "\n",
    "\n",
    "\n",
    "filename = '../data/neko.txt.mecab'\n",
    "with open(filename, mode='r', encoding='utf-8') as f:\n",
    "    blockList = f.read().split('EOS\\n')\n",
    "blockList = parseMecab(blockList[0])\n",
    "ans = sortWord(blockList)"
   ]
  },
  {
   "cell_type": "code",
   "execution_count": 25,
   "metadata": {},
   "outputs": [
    {
     "data": {
      "text/plain": [
       "(array([127., 117., 111., 102.,  91.,  79.,  59.,  53.,  60.,  48.,  48.,\n",
       "         22.,  29.,  37.,  36.,  29.,  20.,  24.,  21.,  21.,  23.,  18.,\n",
       "         23.,  14.,  11.,  19.,  19.,  14.,   9.,  13.,  11.,  13.,   7.,\n",
       "          5.,  14.,  10.,   7.,   8.,   9.,   4.,   3.,   7.,   8.,   2.,\n",
       "          1.,   9.,   6.,   6.,   2.,   4.,   6.,   4.,   4.,   7.,   3.,\n",
       "          9.,   3.,   3.,   2.,   0.,   5.,   5.,   4.,   6.,   4.,   3.,\n",
       "          2.,   1.,   1.,   2.,   3.,   1.,   3.,   3.,   4.,   3.,   3.,\n",
       "          2.,   3.,   3.,   2.,   1.,   1.,   5.,   2.,   1.,   1.,   3.,\n",
       "          5.]),\n",
       " array([10, 11, 12, 13, 14, 15, 16, 17, 18, 19, 20, 21, 22, 23, 24, 25, 26,\n",
       "        27, 28, 29, 30, 31, 32, 33, 34, 35, 36, 37, 38, 39, 40, 41, 42, 43,\n",
       "        44, 45, 46, 47, 48, 49, 50, 51, 52, 53, 54, 55, 56, 57, 58, 59, 60,\n",
       "        61, 62, 63, 64, 65, 66, 67, 68, 69, 70, 71, 72, 73, 74, 75, 76, 77,\n",
       "        78, 79, 80, 81, 82, 83, 84, 85, 86, 87, 88, 89, 90, 91, 92, 93, 94,\n",
       "        95, 96, 97, 98, 99]),\n",
       " <a list of 89 Patch objects>)"
      ]
     },
     "execution_count": 25,
     "metadata": {},
     "output_type": "execute_result"
    },
    {
     "data": {
      "image/png": "[encoded data removed]",
      "text/plain": [
       "<matplotlib.figure.Figure at 0x7f0fd701f358>"
      ]
     },
     "metadata": {
      "needs_background": "light"
     },
     "output_type": "display_data"
    }
   ],
   "source": [
    "scores = [a[1] for a in ans]\n",
    "plt.hist(scores, range(10, 100))"
   ]
  },
  {
   "cell_type": "code",
   "execution_count": 32,
   "metadata": {},
   "outputs": [
    {
     "data": {
      "text/plain": [
       "(0, 150)"
      ]
     },
     "execution_count": 32,
     "metadata": {},
     "output_type": "execute_result"
    },
    {
     "data": {
      "image/png": "[encoded data removed]",
      "text/plain": [
       "<matplotlib.figure.Figure at 0x7f0ff0279358>"
      ]
     },
     "metadata": {
      "needs_background": "light"
     },
     "output_type": "display_data"
    }
   ],
   "source": [
    "plt.hist(scores, bins=100)\n",
    "plt.ylim(0, 150)"
   ]
  },
  {
   "cell_type": "markdown",
   "metadata": {},
   "source": [
    "<br><br><br>\n",
    "# 39. Zipfの法則Permalink\n",
    "単語の出現頻度順位を横軸，その出現頻度を縦軸として，両対数グラフをプロットせよ．\n",
    "\n",
    "### Zipfの法則(https://bellcurve.jp/statistics/blog/14184.html)\n",
    "Zipf はジップ、または、ジフと読みます。アメリカの言語学者のジョージ･キングズリー・ジフが発見した経験則です。サイズの大きさで順位（k）を付けた場合、k番目のサイズは、1番目のサイズの 1/k になるというものです。"
   ]
  },
  {
   "cell_type": "code",
   "execution_count": 34,
   "metadata": {},
   "outputs": [],
   "source": [
    "def parseMecab(block):\n",
    "    res = []\n",
    "    for line in block.split('\\n'):\n",
    "        if line == '':\n",
    "            return res\n",
    "        surface, attr = line.split('\\t')\n",
    "        attr = attr.split(',')\n",
    "        lineDict = {\n",
    "            'surface': surface,\n",
    "            'base' : attr[6],\n",
    "            'pos' : attr[0],\n",
    "            'pos1' : attr[1]\n",
    "        }\n",
    "        res.append(lineDict)\n",
    "\n",
    "def sortWord(block):\n",
    "    res = {}\n",
    "    for b in block:\n",
    "        if not b['surface'] in res:\n",
    "            res[b['surface']] = 1\n",
    "        else:\n",
    "            res[b['surface']] += 1\n",
    "    return sorted(res.items(), key=lambda x: x[1], reverse=True)\n",
    "\n",
    "\n",
    "\n",
    "filename = '../data/neko.txt.mecab'\n",
    "with open(filename, mode='r', encoding='utf-8') as f:\n",
    "    blockList = f.read().split('EOS\\n')\n",
    "blockList = parseMecab(blockList[0])\n",
    "ans = sortWord(blockList)"
   ]
  },
  {
   "cell_type": "code",
   "execution_count": 38,
   "metadata": {},
   "outputs": [
    {
     "data": {
      "image/png": "[encoded data removed]",
      "text/plain": [
       "<matplotlib.figure.Figure at 0x7f0fedb1fc50>"
      ]
     },
     "metadata": {
      "needs_background": "light"
     },
     "output_type": "display_data"
    }
   ],
   "source": [
    "scores = [a[1] for a in ans]\n",
    "plt.xscale('log')\n",
    "plt.yscale('log')\n",
    "\n",
    "x = range(1, len(scores)+1)\n",
    "plt.scatter(x, scores)\n",
    "\n",
    "plt.title(\"39.zipfの法則\")\n",
    "plt.xlabel('出現度順位')\n",
    "plt.ylabel('出現頻度')\n",
    "\n",
    "plt.show()"
   ]
  },
  {
   "cell_type": "code",
   "execution_count": null,
   "metadata": {},
   "outputs": [],
   "source": []
  }
 ],
 "metadata": {
  "kernelspec": {
   "display_name": "Python 3",
   "language": "python",
   "name": "python3"
  },
  "language_info": {
   "codemirror_mode": {
    "name": "ipython",
    "version": 3
   },
   "file_extension": ".py",
   "mimetype": "text/x-python",
   "name": "python",
   "nbconvert_exporter": "python",
   "pygments_lexer": "ipython3",
   "version": "3.6.6"
  }
 },
 "nbformat": 4,
 "nbformat_minor": 4
}
