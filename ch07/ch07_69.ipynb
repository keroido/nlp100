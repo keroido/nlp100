{
 "cells": [
  {
   "cell_type": "code",
   "execution_count": null,
   "metadata": {},
   "outputs": [
    {
     "name": "stderr",
     "output_type": "stream",
     "text": [
      "/Users/okuharasho/.pyenv/versions/3.6.5/lib/python3.6/site-packages/ipykernel_launcher.py:9: FutureWarning: read_table is deprecated, use read_csv instead, passing sep='\\t'.\n",
      "  if __name__ == '__main__':\n"
     ]
    }
   ],
   "source": [
    "import pandas as pd\n",
    "import numpy as np\n",
    "from gensim.models import KeyedVectors\n",
    "from sklearn.manifold import TSNE\n",
    "import matplotlib.pyplot as plt\n",
    "\n",
    "\n",
    "# http://www.fao.org/countryprofiles/iso3list/en/\n",
    "country = pd.read_table('../data/countries.tsv')\n",
    "country = country['Short name'].values\n",
    "\n",
    "model = KeyedVectors.load_word2vec_format('../data/GoogleNews-vectors-negative300.bin', binary=True)\n",
    "\n",
    "countryVec = []\n",
    "countryName = []\n",
    "for c in country:\n",
    "    if c in model.vocab:\n",
    "        countryVec.append(model[c])\n",
    "        countryName.append(c)\n",
    "\n",
    "X = np.array(countryVec)\n",
    "tsne = TSNE(random_state=0, n_iter=15000, metric='cosine')\n",
    "embs = tsne.fit_transform(X)\n",
    "plt.scatter(embs[:, 0], embs[:, 1])\n",
    "plt.show()"
   ]
  },
  {
   "cell_type": "code",
   "execution_count": null,
   "metadata": {},
   "outputs": [],
   "source": []
  }
 ],
 "metadata": {
  "kernelspec": {
   "display_name": "Python 3",
   "language": "python",
   "name": "python3"
  },
  "language_info": {
   "codemirror_mode": {
    "name": "ipython",
    "version": 3
   },
   "file_extension": ".py",
   "mimetype": "text/x-python",
   "name": "python",
   "nbconvert_exporter": "python",
   "pygments_lexer": "ipython3",
   "version": "3.6.5"
  }
 },
 "nbformat": 4,
 "nbformat_minor": 4
}
